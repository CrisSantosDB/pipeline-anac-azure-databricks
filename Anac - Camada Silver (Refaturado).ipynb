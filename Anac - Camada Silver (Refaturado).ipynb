{
 "cells": [
  {
   "cell_type": "code",
   "execution_count": 0,
   "metadata": {
    "application/vnd.databricks.v1+cell": {
     "cellMetadata": {
      "byteLimit": 2048000,
      "rowLimit": 10000
     },
     "inputWidgets": {},
     "nuid": "f8ee7638-9a8e-432e-a942-57aec629cd21",
     "showTitle": false,
     "tableResultSettingsMap": {},
     "title": ""
    }
   },
   "outputs": [],
   "source": [
    "df = spark.read.json(\"dbfs:/mnt/Anac/Bronze/V_OCORRENCIA_AMPLA.json\")\n"
   ]
  },
  {
   "cell_type": "code",
   "execution_count": 0,
   "metadata": {
    "application/vnd.databricks.v1+cell": {
     "cellMetadata": {
      "byteLimit": 2048000,
      "rowLimit": 10000
     },
     "inputWidgets": {},
     "nuid": "df4cd255-2065-444b-a0cf-3ddc50ffc075",
     "showTitle": false,
     "tableResultSettingsMap": {},
     "title": ""
    }
   },
   "outputs": [],
   "source": [
    "colunas = [\"Aerodromo_de_Destino\",\"Aerodromo_de_Origem\",\"CLS\",\"Categoria_da_Aeronave\",\"Classificacao_da_Ocorrência\",\n",
    "\"Danos_a_Aeronave\",\"Data_da_Ocorrencia\",\"Descricao_do_Tipo\",\"Fase_da_Operacao\",\"Historico\",\"Hora_da_Ocorrência\",\n",
    "\"ICAO\",\"Ilesos_Passageiros\",\"Ilesos_Tripulantes\",\"Latitude\",\"Longitude\",\"Matricula\",\"Modelo\",\"Municipio\",\"Nome_do_Fabricante\",\n",
    "\"Numero_da_Ficha\",\"Numero_da_Ocorrencia\",\"Numero_de_Assentos\",\"Operacao\",\"Operador\",\"Operador_Padronizado\",\"PMD\",\"PSSO\",\"Regiao\",\n",
    "\"Tipo_ICAO\",\"Tipo_de_Aerodromo\",\"Tipo_de_Ocorrencia\",\"UF\"]\n",
    "\n",
    "for i in colunas:\n",
    "    df = df.fillna(\"Sem Registro\", subset=[i])\n",
    "\n"
   ]
  },
  {
   "cell_type": "code",
   "execution_count": 0,
   "metadata": {
    "application/vnd.databricks.v1+cell": {
     "cellMetadata": {
      "byteLimit": 2048000,
      "rowLimit": 10000
     },
     "inputWidgets": {},
     "nuid": "0930caa5-4d98-45ed-bd16-db79f5725342",
     "showTitle": false,
     "tableResultSettingsMap": {},
     "title": ""
    }
   },
   "outputs": [],
   "source": [
    "# Converter as colunas do tipo str para int\n",
    "colunas2 = [\n",
    "\"Lesoes_Desconhecidas_Passageiros\",\n",
    "\"Lesoes_Desconhecidas_Terceiros\",\n",
    "\"Lesoes_Desconhecidas_Tripulantes\",\n",
    "\"Lesoes_Fatais_Passageiros\",\n",
    "\"Lesoes_Fatais_Terceiros\",\n",
    "\"Lesoes_Fatais_Tripulantes\",\n",
    "\"Lesoes_Graves_Passageiros\",\n",
    "\"Lesoes_Graves_Terceiros\",\n",
    "\"Lesoes_Graves_Tripulantes\",\n",
    "\"Lesoes_Leves_Passageiros\",\n",
    "\"Lesoes_Leves_Terceiros\",\n",
    "\"Lesoes_Leves_Tripulantes\"]\n",
    "\n",
    "for i in colunas2:\n",
    "    df =df.withColumn(i, df[i].cast(\"int\"))\n",
    "\n",
    "\n"
   ]
  },
  {
   "cell_type": "code",
   "execution_count": 0,
   "metadata": {
    "application/vnd.databricks.v1+cell": {
     "cellMetadata": {
      "byteLimit": 2048000,
      "rowLimit": 10000
     },
     "inputWidgets": {},
     "nuid": "137bdf51-4c68-4a03-9a53-5fa44d84ff6e",
     "showTitle": false,
     "tableResultSettingsMap": {},
     "title": ""
    }
   },
   "outputs": [],
   "source": [
    "# Tratar o nulos, apos a conversão de str para int onde tinha nulo nas colunas colequei 0\n",
    "colunas2 = [\n",
    "\"Lesoes_Desconhecidas_Passageiros\",\n",
    "\"Lesoes_Desconhecidas_Terceiros\",\n",
    "\"Lesoes_Desconhecidas_Tripulantes\",\n",
    "\"Lesoes_Fatais_Passageiros\",\n",
    "\"Lesoes_Fatais_Terceiros\",\n",
    "\"Lesoes_Fatais_Tripulantes\",\n",
    "\"Lesoes_Graves_Passageiros\",\n",
    "\"Lesoes_Graves_Terceiros\",\n",
    "\"Lesoes_Graves_Tripulantes\",\n",
    "\"Lesoes_Leves_Passageiros\",\n",
    "\"Lesoes_Leves_Terceiros\",\n",
    "\"Lesoes_Leves_Tripulantes\"]\n",
    "\n",
    "for i in colunas2:\n",
    "    df =df.fillna(0,subset=[i])\n",
    "\n",
    "\n"
   ]
  },
  {
   "cell_type": "code",
   "execution_count": 0,
   "metadata": {
    "application/vnd.databricks.v1+cell": {
     "cellMetadata": {
      "byteLimit": 2048000,
      "rowLimit": 10000
     },
     "inputWidgets": {},
     "nuid": "b85be3ac-9f35-4943-9143-7f330b33d307",
     "showTitle": false,
     "tableResultSettingsMap": {},
     "title": ""
    }
   },
   "outputs": [],
   "source": [
    "df.write.mode(\"overwrite\").parquet(\"dbfs:/mnt/Anac/Silver/anac_silver.parquet\")"
   ]
  }
 ],
 "metadata": {
  "application/vnd.databricks.v1+notebook": {
   "computePreferences": null,
   "dashboards": [],
   "environmentMetadata": {
    "base_environment": "",
    "environment_version": "2"
   },
   "inputWidgetPreferences": null,
   "language": "python",
   "notebookMetadata": {
    "mostRecentlyExecutedCommandWithImplicitDF": {
     "commandId": 1531306621261941,
     "dataframes": [
      "_sqldf"
     ]
    },
    "pythonIndentUnit": 4
   },
   "notebookName": "Anac - Camada Silver (Refaturado)",
   "widgets": {}
  },
  "language_info": {
   "name": "python"
  }
 },
 "nbformat": 4,
 "nbformat_minor": 0
}
